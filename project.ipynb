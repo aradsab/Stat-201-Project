{
 "cells": [
  {
   "cell_type": "code",
   "execution_count": 2,
   "id": "63382cd1-9255-4bbc-99fd-1d87644b93eb",
   "metadata": {
    "tags": []
   },
   "outputs": [
    {
     "ename": "ERROR",
     "evalue": "Error in library(cowplot): there is no package called ‘cowplot’\n",
     "output_type": "error",
     "traceback": [
      "Error in library(cowplot): there is no package called ‘cowplot’\nTraceback:\n",
      "1. library(cowplot)"
     ]
    }
   ],
   "source": [
    "# Run this cell before continuing.\n",
    "library(cowplot)\n",
    "library(datateachr)\n",
    "library(digest)\n",
    "library(infer)\n",
    "library(repr)\n",
    "library(taxyvr)\n",
    "library(tidyverse)"
   ]
  },
  {
   "cell_type": "markdown",
   "id": "d8008a24-cfe7-405e-b3dc-72a9735fbfad",
   "metadata": {
    "tags": []
   },
   "source": [
    "# Examining Correlations between location and crime Rates\n",
    "\n",
    "## Introduction\n",
    "---\n",
    "\n",
    "Our dataset contains crime data for 2022 in Vancouver. For each entry, we have recorded the type of crime, and we are specifically focusing on three crime types: \"Break and Enter Residential/Other,\" \"Break and Enter Commercial,\" and \"Mischief.\" We also have information about the date and time the crime occurred, the address, neighborhood, and geographic coordinates.\n",
    "\n",
    "The question we are trying to answer is whether there is a correlation between the geographic location of these specific types of crime and the frequency of criminal incidents. Our analysis seeks to determine if crime predominantly occurs in either the east or west side of Vancouver, as defined by the \"X\" coordinate. Crimes with \"X\" values less than 491984.0931 are categorized as the \"west\" side, while values greater than or equal to this threshold are considered the \"east\" side.\n",
    "\n",
    "In this study, we use the \"X\" coordinate as a key variable to understand the spatial distribution of these specific crime types. This approach allows us to focus on the geographical aspect of crime patterns for \"Break and Enter Residential/Other,\" \"Break and Enter Commercial,\" and \"Mischief\" incidents. \n",
    "\n",
    "Our null hypothesis is that these three specific types of crime are evenly distributed between the east and west sides of Vancouver. Our alternative hypothesis is that crime will occur more in the west side of Vancouver, X < 491984.0931, in coordinate. Downtown Vancouver has frequently been associated with higher rates of criminality, according to many news and these are one of the most hazardous locations in Vancouver.\n",
    "\n",
    "### Parameters of Interest:\n",
    "\n",
    "* Location Parameter (Mean): \n",
    "\n",
    "Our primary location parameter is the mean. We want to calculate the mean number of incidents for each of the three crime types on both the west and east sides of Vancouver. This parameter will help us identify if there is a significant difference in the average occurrence of these crimes in the two geographical areas.\n",
    "\n",
    "* Scale Parameter (Standard Deviation):\n",
    "\n",
    "The standard deviation will be a secondary parameter of interest. We'll calculate the standard deviation for each crime type in both west and east sides of Vancouver. This parameter is important because it allows us to assess the variability or dispersion of crime occurrences within each group. It can help us understand how consistent or variable crime patterns are in each area.\n",
    "\n",
    "## Preliminary Results\n",
    "---"
   ]
  },
  {
   "cell_type": "code",
   "execution_count": null,
   "id": "ceb483bf-3b0e-437d-bcdf-249825ca8966",
   "metadata": {
    "tags": []
   },
   "outputs": [],
   "source": [
    "# setwd(\"/home/jovyan/work/project\")"
   ]
  },
  {
   "cell_type": "code",
   "execution_count": null,
   "id": "8ed13e97-22fb-4939-ae0d-2fbb24eeaeee",
   "metadata": {
    "tags": []
   },
   "outputs": [],
   "source": [
    "crime_data <- read_csv(\"data/crimedata_csv_AllNeighbourhoods_2022.csv\")\n",
    "head(crime_data)"
   ]
  },
  {
   "cell_type": "code",
   "execution_count": null,
   "id": "27d3f5e3-03e9-43c5-bc09-76ea3a3a5251",
   "metadata": {
    "tags": []
   },
   "outputs": [],
   "source": [
    "crime_X <- crime_data[c(\"X\",\"TYPE\")]"
   ]
  },
  {
   "cell_type": "code",
   "execution_count": null,
   "id": "4de8fba2-f431-4d22-8d9d-e4bba8197764",
   "metadata": {
    "tags": []
   },
   "outputs": [],
   "source": [
    "# cleaning the data\n",
    "crime_X <- crime_X[complete.cases(crime_X), ]\n",
    "crime_X <- subset(crime_X, X != 0)\n",
    "# one sample\n",
    "crime_X <- crime_X %>%\n",
    "    rep_sample_n(reps = 1, size = 500, replace = FALSE) %>% ungroup() %>% select(X,TYPE)\n",
    "\n",
    "crime_X_res <- crime_X[crime_X$TYPE == \"Break and Enter Residential/Other\", ]\n",
    "crime_X_com <- crime_X[crime_X$TYPE == \"Break and Enter Commercial\", ]\n",
    "crime_X_mis <- crime_X[crime_X$TYPE == \"Mischief\", ]\n",
    "\n",
    "# making bootstrap samples\n",
    "\n",
    "crime_X_res_samples <- crime_X_res %>%\n",
    "    rep_sample_n(reps = 1000, size = nrow(crime_X_res), replace = TRUE) %>% \n",
    "    group_by(replicate) %>%\n",
    "    reframe(mean = mean(X),category = TYPE)\n",
    "ggplot(crime_X_res_samples, aes(x = mean)) +\n",
    "  geom_histogram(binwidth = 120) +\n",
    "  labs(title = \"X location Histogram for Break and Enter Residential\", x = \"X value\", y = \"Frequency\")\n",
    "\n",
    "\n",
    "crime_X_com_samples <- crime_X_com %>%\n",
    "    rep_sample_n(reps = 1000, size = nrow(crime_X_com), replace = TRUE) %>% \n",
    "    group_by(replicate) %>%\n",
    "    reframe(mean = mean(X),category = TYPE)\n",
    "ggplot(crime_X_com_samples, aes(x = mean)) +\n",
    "  geom_histogram(binwidth = 120) +\n",
    "  labs(title = \"X location Histogram for Break and Enter Commercial\", x = \"X value\", y = \"Frequency\")\n",
    "\n",
    "\n",
    "crime_X_mis_samples <- crime_X_mis %>%\n",
    "    rep_sample_n(reps = 1000, size = nrow(crime_X_mis), replace = TRUE) %>% \n",
    "    group_by(replicate) %>%\n",
    "    reframe(mean = mean(X),category = TYPE)\n",
    "ggplot(crime_X_mis_samples, aes(x = mean)) +\n",
    "  geom_histogram(binwidth = 80) +\n",
    "  labs(title = \"X location Histogram for Mischief\", x = \"X value\", y = \"Frequency\")\n"
   ]
  },
  {
   "cell_type": "code",
   "execution_count": null,
   "id": "75417d9e-7bcb-4753-b831-555be1a9cf61",
   "metadata": {
    "tags": []
   },
   "outputs": [],
   "source": [
    "mean(crime_X_com_samples$mean) > 491984.0931"
   ]
  },
  {
   "cell_type": "code",
   "execution_count": null,
   "id": "b0c627e6-cf5f-4c22-9b69-29ef2ae3cebf",
   "metadata": {
    "tags": []
   },
   "outputs": [],
   "source": [
    "sd(crime_X_com_samples$mean)"
   ]
  },
  {
   "cell_type": "code",
   "execution_count": null,
   "id": "eee6f695-255d-4a16-8a3b-fae81d9e0a56",
   "metadata": {
    "tags": []
   },
   "outputs": [],
   "source": [
    "mean(crime_X_res_samples$mean) > 491984.0931"
   ]
  },
  {
   "cell_type": "code",
   "execution_count": null,
   "id": "e1da839d-1d18-47c7-aadc-15e70336ed7d",
   "metadata": {
    "tags": []
   },
   "outputs": [],
   "source": [
    "sd(crime_X_res_samples$mean)"
   ]
  },
  {
   "cell_type": "code",
   "execution_count": null,
   "id": "8b487cbb-2854-45a0-aac4-80bafdd17ee4",
   "metadata": {
    "tags": []
   },
   "outputs": [],
   "source": [
    "mean(crime_X_mis_samples$mean) > 491984.0931"
   ]
  },
  {
   "cell_type": "code",
   "execution_count": null,
   "id": "00f3568b-671b-467e-b609-4a94fa052e8c",
   "metadata": {
    "tags": []
   },
   "outputs": [],
   "source": [
    "sd(crime_X_mis_samples$mean)"
   ]
  },
  {
   "cell_type": "markdown",
   "id": "bdad0ebe-afc3-4df9-9d70-317322240731",
   "metadata": {},
   "source": [
    "Report: As we can see Break and Enter happens mostly at west so we reject null hypothesis and for mischief, it mostly happens at east so we accept null hypothesis."
   ]
  },
  {
   "cell_type": "markdown",
   "id": "56115a5a-a9c5-4035-a304-68170350dbc6",
   "metadata": {
    "tags": []
   },
   "source": [
    "## Methods: Plan\n",
    "\n",
    "---\n",
    "For our hypothesis testing the null hypothesis is that there is equal crime rates between the west and east sides of Vancouver. The alternative is that the west side has more crime than the east. For this our confidence level will be 95%. In this case it would be better to use bootstrapping rather than the asymptotic method as the asymptotic method relies on the data to already follow a  normal distribution. If the p-value is less than 0.05 after conducting bootstrapping we will reject the null hypothesis.\n",
    "\n",
    "* What do you expect to find?\n",
    "\n",
    "We expect to find our alternative hypothesis to be true. Crime will be the most common in the west area (downtown), X < 491984.0931 in coordinate, and this trend will stay consistent for different types of crimes and for different neighbourhoods within Vancouver. \n",
    " \n",
    "* What impact could such findings have?\n",
    "\n",
    "Understanding the relationship between location and crime can tell law enforcement agencies when and where to allocate police resources efficiently. It may additionally cause more centred and efficient policing techniques, reducing crime rates during peak periods.\n",
    "\n",
    "* What future questions could this lead to?\n",
    "\n",
    "Beyond location, what different elements (i.e. weather, events, or tourism) could influence crime rates? Our research can be continued with those variables to inspect why the west side (downtown) has a significantly higher rate than other areas.\n",
    "\n",
    "How do economic factors, such as income levels, education, and employment opportunities, differ between the west and east sides of Vancouver, and to what extent do these disparities correlate with crime rates.\n",
    "References\n",
    "Staysafevancouver. (2023, August 31). Vancouver crime rate: Areas to avoid. Stay Safe Vancouver. https://www.staysafevancouver.com/post/vancouver-crime-rate \n",
    "\n",
    "West side rated safer than East Side neighbourhoods: Vancouver police survey. The Georgia Straight. (2019, February 21). https://www.straight.com/news/1203621/west-side-rated-safer-east-side-neighbourhoods-vancouver-police-survey \n"
   ]
  },
  {
   "cell_type": "code",
   "execution_count": null,
   "id": "fad100ae-0ee8-4cd0-b5ee-696dfeec13d3",
   "metadata": {},
   "outputs": [],
   "source": []
  },
  {
   "cell_type": "code",
   "execution_count": null,
   "id": "cf9857f5-3385-4376-a547-add3b832c5cc",
   "metadata": {},
   "outputs": [],
   "source": []
  },
  {
   "cell_type": "code",
   "execution_count": null,
   "id": "da6408c7-af96-4cf0-b55a-c4f7a9e26276",
   "metadata": {},
   "outputs": [],
   "source": []
  },
  {
   "cell_type": "code",
   "execution_count": null,
   "id": "323723af-0dfd-4fcc-9242-fb93c600344f",
   "metadata": {},
   "outputs": [],
   "source": []
  }
 ],
 "metadata": {
  "kernelspec": {
   "display_name": "R",
   "language": "R",
   "name": "ir"
  },
  "language_info": {
   "codemirror_mode": "r",
   "file_extension": ".r",
   "mimetype": "text/x-r-source",
   "name": "R",
   "pygments_lexer": "r",
   "version": "4.3.0"
  }
 },
 "nbformat": 4,
 "nbformat_minor": 5
}
