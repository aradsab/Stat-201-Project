{
 "cells": [
  {
   "cell_type": "code",
   "execution_count": 2,
   "id": "63382cd1-9255-4bbc-99fd-1d87644b93eb",
   "metadata": {
    "tags": []
   },
   "outputs": [
    {
     "name": "stderr",
     "output_type": "stream",
     "text": [
      "── \u001b[1mAttaching core tidyverse packages\u001b[22m ──────────────────────── tidyverse 2.0.0 ──\n",
      "\u001b[32m✔\u001b[39m \u001b[34mdplyr    \u001b[39m 1.1.3     \u001b[32m✔\u001b[39m \u001b[34mreadr    \u001b[39m 2.1.4\n",
      "\u001b[32m✔\u001b[39m \u001b[34mforcats  \u001b[39m 1.0.0     \u001b[32m✔\u001b[39m \u001b[34mstringr  \u001b[39m 1.5.0\n",
      "\u001b[32m✔\u001b[39m \u001b[34mggplot2  \u001b[39m 3.4.4     \u001b[32m✔\u001b[39m \u001b[34mtibble   \u001b[39m 3.2.1\n",
      "\u001b[32m✔\u001b[39m \u001b[34mlubridate\u001b[39m 1.9.3     \u001b[32m✔\u001b[39m \u001b[34mtidyr    \u001b[39m 1.3.0\n",
      "\u001b[32m✔\u001b[39m \u001b[34mpurrr    \u001b[39m 1.0.2     \n",
      "── \u001b[1mConflicts\u001b[22m ────────────────────────────────────────── tidyverse_conflicts() ──\n",
      "\u001b[31m✖\u001b[39m \u001b[34mdplyr\u001b[39m::\u001b[32mfilter()\u001b[39m    masks \u001b[34mstats\u001b[39m::filter()\n",
      "\u001b[31m✖\u001b[39m \u001b[34mdplyr\u001b[39m::\u001b[32mlag()\u001b[39m       masks \u001b[34mstats\u001b[39m::lag()\n",
      "\u001b[31m✖\u001b[39m \u001b[34mlubridate\u001b[39m::\u001b[32mstamp()\u001b[39m masks \u001b[34mcowplot\u001b[39m::stamp()\n",
      "\u001b[36mℹ\u001b[39m Use the conflicted package (\u001b[3m\u001b[34m<http://conflicted.r-lib.org/>\u001b[39m\u001b[23m) to force all conflicts to become errors\n"
     ]
    }
   ],
   "source": [
    "# Run this cell before continuing.\n",
    "library(cowplot)\n",
    "library(datateachr)\n",
    "library(digest)\n",
    "library(infer)\n",
    "library(repr)\n",
    "library(taxyvr)\n",
    "library(tidyverse)"
   ]
  },
  {
   "cell_type": "markdown",
   "id": "d8008a24-cfe7-405e-b3dc-72a9735fbfad",
   "metadata": {
    "tags": []
   },
   "source": [
    "# Examining Correlations between location and crime Rates\n",
    "\n",
    "## Introduction\n",
    "---\n",
    "\n",
    "Recently, the rates of crimes in the east of Vancouver have surged, prompting an exploration into the extent of this increase. The pressing question arises: just how elevated are these crime rates?\n",
    "\n",
    "Our dataset contains crime data for 2022 in Vancouver. For each entry, we have recorded the type of crime, and we are specifically focusing on three crime types: \"Break and Enter Residential/Other,\" \"Break and Enter Commercial,\" and \"Mischief.\" We also have information about the date and time the crime occurred, the address, neighborhood, and geographic coordinates.\n",
    "\n",
    "The question we are trying to answer is: are the crime rates in east of vancouver 2 times more than west of vancouver? as defined by the \"X\" coordinate. Crimes with \"X\" values less than 491017.47 are categorized as the \"west\" side, while values greater than or equal to this threshold are considered the \"east\" side.\n",
    "\n",
    "In this study, we created a new column REGION which will used to find the proportion of crimes in east and west. This approach allows us to focus on the geographical aspect of crime patterns for \"Break and Enter Residential/Other,\" \"Break and Enter Commercial,\" and \"Mischief\" incidents. \n",
    "\n",
    "Downtown Vancouver and hasting street have frequently been associated with higher rates of criminality, according to many news and these are one of the most hazardous locations in Vancouver. However, higher levels of socioeconomic inequality, poverty, or other social factors in west vancouver are associated with higher crime rates, it could contribute to an elevated crime rate compared to the east side. our null hypothesis is that the crime rate in east is not 2 times more than crime rate in west. Our alternative hypothesis is that crime rate in east is 2 times more than crime rate in west. \n",
    "\n",
    "### Parameters of Interest:\n",
    "\n",
    "* Location Parameter (Proportion): \n",
    "\n",
    "H0: p_east < 0.67\n",
    "\n",
    "H1: p_east >= 0.67\n",
    "\n",
    "* Scale Parameter (Standard Deviation):\n",
    "\n",
    "The standard deviation will be a secondary parameter of interest. We'll calculate the standard deviation for each crime type in both west and east sides of Vancouver. This parameter is important because it allows us to assess the variability or dispersion of crime occurrences within each group. It can help us understand how consistent or variable crime patterns are in each area.\n",
    "\n",
    "## Preliminary Results\n",
    "---"
   ]
  },
  {
   "cell_type": "code",
   "execution_count": 3,
   "id": "ceb483bf-3b0e-437d-bcdf-249825ca8966",
   "metadata": {
    "tags": []
   },
   "outputs": [],
   "source": [
    "# setwd(\"/home/jovyan/work/project\")"
   ]
  },
  {
   "cell_type": "code",
   "execution_count": 4,
   "id": "8ed13e97-22fb-4939-ae0d-2fbb24eeaeee",
   "metadata": {
    "tags": []
   },
   "outputs": [
    {
     "name": "stderr",
     "output_type": "stream",
     "text": [
      "\u001b[1mRows: \u001b[22m\u001b[34m34281\u001b[39m \u001b[1mColumns: \u001b[22m\u001b[34m10\u001b[39m\n",
      "\u001b[36m──\u001b[39m \u001b[1mColumn specification\u001b[22m \u001b[36m────────────────────────────────────────────────────────\u001b[39m\n",
      "\u001b[1mDelimiter:\u001b[22m \",\"\n",
      "\u001b[31mchr\u001b[39m (3): TYPE, HUNDRED_BLOCK, NEIGHBOURHOOD\n",
      "\u001b[32mdbl\u001b[39m (7): YEAR, MONTH, DAY, HOUR, MINUTE, X, Y\n",
      "\n",
      "\u001b[36mℹ\u001b[39m Use `spec()` to retrieve the full column specification for this data.\n",
      "\u001b[36mℹ\u001b[39m Specify the column types or set `show_col_types = FALSE` to quiet this message.\n"
     ]
    },
    {
     "data": {
      "text/html": [
       "<table class=\"dataframe\">\n",
       "<caption>A tibble: 6 × 11</caption>\n",
       "<thead>\n",
       "\t<tr><th scope=col>TYPE</th><th scope=col>YEAR</th><th scope=col>MONTH</th><th scope=col>DAY</th><th scope=col>HOUR</th><th scope=col>MINUTE</th><th scope=col>HUNDRED_BLOCK</th><th scope=col>NEIGHBOURHOOD</th><th scope=col>X</th><th scope=col>Y</th><th scope=col>REGION</th></tr>\n",
       "\t<tr><th scope=col>&lt;chr&gt;</th><th scope=col>&lt;dbl&gt;</th><th scope=col>&lt;dbl&gt;</th><th scope=col>&lt;dbl&gt;</th><th scope=col>&lt;dbl&gt;</th><th scope=col>&lt;dbl&gt;</th><th scope=col>&lt;chr&gt;</th><th scope=col>&lt;chr&gt;</th><th scope=col>&lt;dbl&gt;</th><th scope=col>&lt;dbl&gt;</th><th scope=col>&lt;chr&gt;</th></tr>\n",
       "</thead>\n",
       "<tbody>\n",
       "\t<tr><td>Break and Enter Commercial</td><td>2022</td><td>1</td><td> 3</td><td>16</td><td>19</td><td>10XX ALBERNI ST </td><td>West End   </td><td>491036.1</td><td>5459146</td><td>East</td></tr>\n",
       "\t<tr><td>Break and Enter Commercial</td><td>2022</td><td>6</td><td>17</td><td> 5</td><td>16</td><td>10XX ALBERNI ST </td><td>West End   </td><td>491067.3</td><td>5459115</td><td>East</td></tr>\n",
       "\t<tr><td>Break and Enter Commercial</td><td>2022</td><td>3</td><td>15</td><td> 5</td><td>14</td><td>10XX ALBERNI ST </td><td>West End   </td><td>491102.2</td><td>5459092</td><td>East</td></tr>\n",
       "\t<tr><td>Break and Enter Commercial</td><td>2022</td><td>3</td><td>19</td><td> 6</td><td>42</td><td>10XX ALBERNI ST </td><td>West End   </td><td>491102.2</td><td>5459092</td><td>East</td></tr>\n",
       "\t<tr><td>Break and Enter Commercial</td><td>2022</td><td>2</td><td>23</td><td>23</td><td> 0</td><td>10XX BALFOUR AVE</td><td>Shaughnessy</td><td>490699.8</td><td>5455444</td><td>West</td></tr>\n",
       "\t<tr><td>Break and Enter Commercial</td><td>2022</td><td>2</td><td>25</td><td>10</td><td>15</td><td>10XX BALFOUR AVE</td><td>Shaughnessy</td><td>490699.8</td><td>5455444</td><td>West</td></tr>\n",
       "</tbody>\n",
       "</table>\n"
      ],
      "text/latex": [
       "A tibble: 6 × 11\n",
       "\\begin{tabular}{lllllllllll}\n",
       " TYPE & YEAR & MONTH & DAY & HOUR & MINUTE & HUNDRED\\_BLOCK & NEIGHBOURHOOD & X & Y & REGION\\\\\n",
       " <chr> & <dbl> & <dbl> & <dbl> & <dbl> & <dbl> & <chr> & <chr> & <dbl> & <dbl> & <chr>\\\\\n",
       "\\hline\n",
       "\t Break and Enter Commercial & 2022 & 1 &  3 & 16 & 19 & 10XX ALBERNI ST  & West End    & 491036.1 & 5459146 & East\\\\\n",
       "\t Break and Enter Commercial & 2022 & 6 & 17 &  5 & 16 & 10XX ALBERNI ST  & West End    & 491067.3 & 5459115 & East\\\\\n",
       "\t Break and Enter Commercial & 2022 & 3 & 15 &  5 & 14 & 10XX ALBERNI ST  & West End    & 491102.2 & 5459092 & East\\\\\n",
       "\t Break and Enter Commercial & 2022 & 3 & 19 &  6 & 42 & 10XX ALBERNI ST  & West End    & 491102.2 & 5459092 & East\\\\\n",
       "\t Break and Enter Commercial & 2022 & 2 & 23 & 23 &  0 & 10XX BALFOUR AVE & Shaughnessy & 490699.8 & 5455444 & West\\\\\n",
       "\t Break and Enter Commercial & 2022 & 2 & 25 & 10 & 15 & 10XX BALFOUR AVE & Shaughnessy & 490699.8 & 5455444 & West\\\\\n",
       "\\end{tabular}\n"
      ],
      "text/markdown": [
       "\n",
       "A tibble: 6 × 11\n",
       "\n",
       "| TYPE &lt;chr&gt; | YEAR &lt;dbl&gt; | MONTH &lt;dbl&gt; | DAY &lt;dbl&gt; | HOUR &lt;dbl&gt; | MINUTE &lt;dbl&gt; | HUNDRED_BLOCK &lt;chr&gt; | NEIGHBOURHOOD &lt;chr&gt; | X &lt;dbl&gt; | Y &lt;dbl&gt; | REGION &lt;chr&gt; |\n",
       "|---|---|---|---|---|---|---|---|---|---|---|\n",
       "| Break and Enter Commercial | 2022 | 1 |  3 | 16 | 19 | 10XX ALBERNI ST  | West End    | 491036.1 | 5459146 | East |\n",
       "| Break and Enter Commercial | 2022 | 6 | 17 |  5 | 16 | 10XX ALBERNI ST  | West End    | 491067.3 | 5459115 | East |\n",
       "| Break and Enter Commercial | 2022 | 3 | 15 |  5 | 14 | 10XX ALBERNI ST  | West End    | 491102.2 | 5459092 | East |\n",
       "| Break and Enter Commercial | 2022 | 3 | 19 |  6 | 42 | 10XX ALBERNI ST  | West End    | 491102.2 | 5459092 | East |\n",
       "| Break and Enter Commercial | 2022 | 2 | 23 | 23 |  0 | 10XX BALFOUR AVE | Shaughnessy | 490699.8 | 5455444 | West |\n",
       "| Break and Enter Commercial | 2022 | 2 | 25 | 10 | 15 | 10XX BALFOUR AVE | Shaughnessy | 490699.8 | 5455444 | West |\n",
       "\n"
      ],
      "text/plain": [
       "  TYPE                       YEAR MONTH DAY HOUR MINUTE HUNDRED_BLOCK   \n",
       "1 Break and Enter Commercial 2022 1      3  16   19     10XX ALBERNI ST \n",
       "2 Break and Enter Commercial 2022 6     17   5   16     10XX ALBERNI ST \n",
       "3 Break and Enter Commercial 2022 3     15   5   14     10XX ALBERNI ST \n",
       "4 Break and Enter Commercial 2022 3     19   6   42     10XX ALBERNI ST \n",
       "5 Break and Enter Commercial 2022 2     23  23    0     10XX BALFOUR AVE\n",
       "6 Break and Enter Commercial 2022 2     25  10   15     10XX BALFOUR AVE\n",
       "  NEIGHBOURHOOD X        Y       REGION\n",
       "1 West End      491036.1 5459146 East  \n",
       "2 West End      491067.3 5459115 East  \n",
       "3 West End      491102.2 5459092 East  \n",
       "4 West End      491102.2 5459092 East  \n",
       "5 Shaughnessy   490699.8 5455444 West  \n",
       "6 Shaughnessy   490699.8 5455444 West  "
      ]
     },
     "metadata": {},
     "output_type": "display_data"
    }
   ],
   "source": [
    "crime_data <- read_csv(\"https://raw.githubusercontent.com/aradsab/Stat-201-Project/main/crimedata_csv_AllNeighbourhoods_2022.csv\")\n",
    "# cleaning the data\n",
    "crime_data <- crime_data[complete.cases(crime_data), ]\n",
    "crime_data <- subset(crime_data, X != 0)\n",
    "crime_data <- crime_data %>%\n",
    "  mutate(REGION = ifelse(X > 491017.47, \"East\", \"West\"))\n",
    "\n",
    "head(crime_data)"
   ]
  },
  {
   "cell_type": "code",
   "execution_count": 14,
   "id": "27d3f5e3-03e9-43c5-bc09-76ea3a3a5251",
   "metadata": {
    "tags": []
   },
   "outputs": [
    {
     "data": {
      "text/html": [
       "<table class=\"dataframe\">\n",
       "<caption>A tibble: 6 × 3</caption>\n",
       "<thead>\n",
       "\t<tr><th scope=col>REGION</th><th scope=col>TYPE</th><th scope=col>X</th></tr>\n",
       "\t<tr><th scope=col>&lt;chr&gt;</th><th scope=col>&lt;chr&gt;</th><th scope=col>&lt;dbl&gt;</th></tr>\n",
       "</thead>\n",
       "<tbody>\n",
       "\t<tr><td>East</td><td>Break and Enter Commercial</td><td>491036.1</td></tr>\n",
       "\t<tr><td>East</td><td>Break and Enter Commercial</td><td>491067.3</td></tr>\n",
       "\t<tr><td>East</td><td>Break and Enter Commercial</td><td>491102.2</td></tr>\n",
       "\t<tr><td>East</td><td>Break and Enter Commercial</td><td>491102.2</td></tr>\n",
       "\t<tr><td>West</td><td>Break and Enter Commercial</td><td>490699.8</td></tr>\n",
       "\t<tr><td>West</td><td>Break and Enter Commercial</td><td>490699.8</td></tr>\n",
       "</tbody>\n",
       "</table>\n"
      ],
      "text/latex": [
       "A tibble: 6 × 3\n",
       "\\begin{tabular}{lll}\n",
       " REGION & TYPE & X\\\\\n",
       " <chr> & <chr> & <dbl>\\\\\n",
       "\\hline\n",
       "\t East & Break and Enter Commercial & 491036.1\\\\\n",
       "\t East & Break and Enter Commercial & 491067.3\\\\\n",
       "\t East & Break and Enter Commercial & 491102.2\\\\\n",
       "\t East & Break and Enter Commercial & 491102.2\\\\\n",
       "\t West & Break and Enter Commercial & 490699.8\\\\\n",
       "\t West & Break and Enter Commercial & 490699.8\\\\\n",
       "\\end{tabular}\n"
      ],
      "text/markdown": [
       "\n",
       "A tibble: 6 × 3\n",
       "\n",
       "| REGION &lt;chr&gt; | TYPE &lt;chr&gt; | X &lt;dbl&gt; |\n",
       "|---|---|---|\n",
       "| East | Break and Enter Commercial | 491036.1 |\n",
       "| East | Break and Enter Commercial | 491067.3 |\n",
       "| East | Break and Enter Commercial | 491102.2 |\n",
       "| East | Break and Enter Commercial | 491102.2 |\n",
       "| West | Break and Enter Commercial | 490699.8 |\n",
       "| West | Break and Enter Commercial | 490699.8 |\n",
       "\n"
      ],
      "text/plain": [
       "  REGION TYPE                       X       \n",
       "1 East   Break and Enter Commercial 491036.1\n",
       "2 East   Break and Enter Commercial 491067.3\n",
       "3 East   Break and Enter Commercial 491102.2\n",
       "4 East   Break and Enter Commercial 491102.2\n",
       "5 West   Break and Enter Commercial 490699.8\n",
       "6 West   Break and Enter Commercial 490699.8"
      ]
     },
     "metadata": {},
     "output_type": "display_data"
    }
   ],
   "source": [
    "crime_X <- crime_data[c(\"REGION\",\"TYPE\",\"X\")]\n",
    "head(crime_X)"
   ]
  },
  {
   "cell_type": "code",
   "execution_count": 30,
   "id": "4de8fba2-f431-4d22-8d9d-e4bba8197764",
   "metadata": {
    "tags": []
   },
   "outputs": [
    {
     "data": {
      "text/html": [
       "<table class=\"dataframe\">\n",
       "<caption>A tibble: 2 × 3</caption>\n",
       "<thead>\n",
       "\t<tr><th scope=col>REGION</th><th scope=col>total_rows</th><th scope=col>proportion</th></tr>\n",
       "\t<tr><th scope=col>&lt;chr&gt;</th><th scope=col>&lt;int&gt;</th><th scope=col>&lt;dbl&gt;</th></tr>\n",
       "</thead>\n",
       "<tbody>\n",
       "\t<tr><td>East</td><td>801</td><td>0.6327014</td></tr>\n",
       "\t<tr><td>West</td><td>465</td><td>0.3672986</td></tr>\n",
       "</tbody>\n",
       "</table>\n"
      ],
      "text/latex": [
       "A tibble: 2 × 3\n",
       "\\begin{tabular}{lll}\n",
       " REGION & total\\_rows & proportion\\\\\n",
       " <chr> & <int> & <dbl>\\\\\n",
       "\\hline\n",
       "\t East & 801 & 0.6327014\\\\\n",
       "\t West & 465 & 0.3672986\\\\\n",
       "\\end{tabular}\n"
      ],
      "text/markdown": [
       "\n",
       "A tibble: 2 × 3\n",
       "\n",
       "| REGION &lt;chr&gt; | total_rows &lt;int&gt; | proportion &lt;dbl&gt; |\n",
       "|---|---|---|\n",
       "| East | 801 | 0.6327014 |\n",
       "| West | 465 | 0.3672986 |\n",
       "\n"
      ],
      "text/plain": [
       "  REGION total_rows proportion\n",
       "1 East   801        0.6327014 \n",
       "2 West   465        0.3672986 "
      ]
     },
     "metadata": {},
     "output_type": "display_data"
    },
    {
     "data": {
      "text/html": [
       "<table class=\"dataframe\">\n",
       "<caption>A tibble: 2 × 3</caption>\n",
       "<thead>\n",
       "\t<tr><th scope=col>REGION</th><th scope=col>total_rows</th><th scope=col>proportion</th></tr>\n",
       "\t<tr><th scope=col>&lt;chr&gt;</th><th scope=col>&lt;int&gt;</th><th scope=col>&lt;dbl&gt;</th></tr>\n",
       "</thead>\n",
       "<tbody>\n",
       "\t<tr><td>East</td><td>1344</td><td>0.6770781</td></tr>\n",
       "\t<tr><td>West</td><td> 641</td><td>0.3229219</td></tr>\n",
       "</tbody>\n",
       "</table>\n"
      ],
      "text/latex": [
       "A tibble: 2 × 3\n",
       "\\begin{tabular}{lll}\n",
       " REGION & total\\_rows & proportion\\\\\n",
       " <chr> & <int> & <dbl>\\\\\n",
       "\\hline\n",
       "\t East & 1344 & 0.6770781\\\\\n",
       "\t West &  641 & 0.3229219\\\\\n",
       "\\end{tabular}\n"
      ],
      "text/markdown": [
       "\n",
       "A tibble: 2 × 3\n",
       "\n",
       "| REGION &lt;chr&gt; | total_rows &lt;int&gt; | proportion &lt;dbl&gt; |\n",
       "|---|---|---|\n",
       "| East | 1344 | 0.6770781 |\n",
       "| West |  641 | 0.3229219 |\n",
       "\n"
      ],
      "text/plain": [
       "  REGION total_rows proportion\n",
       "1 East   1344       0.6770781 \n",
       "2 West    641       0.3229219 "
      ]
     },
     "metadata": {},
     "output_type": "display_data"
    },
    {
     "data": {
      "text/html": [
       "<table class=\"dataframe\">\n",
       "<caption>A tibble: 2 × 3</caption>\n",
       "<thead>\n",
       "\t<tr><th scope=col>REGION</th><th scope=col>total_rows</th><th scope=col>proportion</th></tr>\n",
       "\t<tr><th scope=col>&lt;chr&gt;</th><th scope=col>&lt;int&gt;</th><th scope=col>&lt;dbl&gt;</th></tr>\n",
       "</thead>\n",
       "<tbody>\n",
       "\t<tr><td>East</td><td>4349</td><td>0.7746705</td></tr>\n",
       "\t<tr><td>West</td><td>1265</td><td>0.2253295</td></tr>\n",
       "</tbody>\n",
       "</table>\n"
      ],
      "text/latex": [
       "A tibble: 2 × 3\n",
       "\\begin{tabular}{lll}\n",
       " REGION & total\\_rows & proportion\\\\\n",
       " <chr> & <int> & <dbl>\\\\\n",
       "\\hline\n",
       "\t East & 4349 & 0.7746705\\\\\n",
       "\t West & 1265 & 0.2253295\\\\\n",
       "\\end{tabular}\n"
      ],
      "text/markdown": [
       "\n",
       "A tibble: 2 × 3\n",
       "\n",
       "| REGION &lt;chr&gt; | total_rows &lt;int&gt; | proportion &lt;dbl&gt; |\n",
       "|---|---|---|\n",
       "| East | 4349 | 0.7746705 |\n",
       "| West | 1265 | 0.2253295 |\n",
       "\n"
      ],
      "text/plain": [
       "  REGION total_rows proportion\n",
       "1 East   4349       0.7746705 \n",
       "2 West   1265       0.2253295 "
      ]
     },
     "metadata": {},
     "output_type": "display_data"
    }
   ],
   "source": [
    "\n",
    "\n",
    "crime_res <- crime_X[crime_X$TYPE == \"Break and Enter Residential/Other\", ]\n",
    "crime_com <- crime_X[crime_X$TYPE == \"Break and Enter Commercial\", ]\n",
    "crime_mis <- crime_X[crime_X$TYPE == \"Mischief\", ]\n",
    "\n",
    "\n",
    "crime_res_summary <- crime_res %>% group_by(REGION) %>% summarise(total_rows = n()) %>%\n",
    "    mutate(proportion = total_rows / sum(total_rows))\n",
    "crime_com_summary <- crime_com %>% group_by(REGION) %>% summarise(total_rows = n()) %>%\n",
    "    mutate(proportion = total_rows / sum(total_rows))\n",
    "crime_mis_summary <- crime_mis %>% group_by(REGION) %>% summarise(total_rows = n()) %>%\n",
    "    mutate(proportion = total_rows / sum(total_rows))\n",
    "\n",
    "\n",
    "tibble(crime_res_summary)\n",
    "tibble(crime_com_summary)\n",
    "tibble(crime_mis_summary)\n"
   ]
  },
  {
   "cell_type": "markdown",
   "id": "ad21d0b0-b603-4bd6-a5e1-f914f919e7f1",
   "metadata": {},
   "source": [
    "## Methods: Plan\n",
    "\n",
    "---"
   ]
  },
  {
   "cell_type": "code",
   "execution_count": 65,
   "id": "8207ddd6-8434-4c1c-8b8e-a577e6313c6e",
   "metadata": {
    "tags": []
   },
   "outputs": [
    {
     "name": "stdout",
     "output_type": "stream",
     "text": [
      "[1] 0.002952944\n",
      "[1] -0.03729858\n"
     ]
    }
   ],
   "source": [
    "res_prop_east <- crime_res_summary$proportion[1]\n",
    "confidence_level <- 0.95\n",
    "\n",
    "# Calculate the standard error of the proportion\n",
    "se <- sqrt(res_prop_east * (1 - res_prop_east) / 1266)\n",
    "\n",
    "\n",
    "population_proportion_null <- 0.67  # Hypothesized population proportion under the null hypothesis\n",
    "\n",
    "\n",
    "# Calculate z value\n",
    "z_value <- (res_prop_east - population_proportion_null) / se\n",
    "\n",
    "# Calculate the margin of error\n",
    "margin_of_error_res <- z_value * se\n",
    "\n",
    "p_value <- pnorm(z_value)\n",
    "print(p_value)\n",
    "print(margin_of_error_res)"
   ]
  },
  {
   "cell_type": "code",
   "execution_count": 66,
   "id": "8048aced-5f65-4965-bfea-58ad775d76ac",
   "metadata": {
    "tags": []
   },
   "outputs": [
    {
     "name": "stdout",
     "output_type": "stream",
     "text": [
      "[1] 0.7499766\n",
      "[1] 0.007078086\n"
     ]
    }
   ],
   "source": [
    "com_prop_east <- crime_com_summary$proportion[1]\n",
    "\n",
    "# Calculate the standard error of the proportion\n",
    "se <- sqrt(com_prop_east * (1 - com_prop_east) / 1985)\n",
    "\n",
    "# Calculate z value\n",
    "z_value <- (com_prop_east - population_proportion_null) / se\n",
    "\n",
    "# Calculate the margin of error\n",
    "margin_of_error_com <- z_value * se\n",
    "\n",
    "p_value <- pnorm(z_value)\n",
    "print(p_value)\n",
    "print(margin_of_error_com)"
   ]
  },
  {
   "cell_type": "code",
   "execution_count": 67,
   "id": "de010d96-1914-4f21-b8b7-c306deaf8cad",
   "metadata": {
    "tags": []
   },
   "outputs": [
    {
     "name": "stdout",
     "output_type": "stream",
     "text": [
      "[1] 1\n",
      "[1] 0.1046705\n"
     ]
    }
   ],
   "source": [
    "mis_prop_east <- crime_mis_summary$proportion[1]\n",
    "\n",
    "# Calculate the standard error of the proportion\n",
    "se <- sqrt(mis_prop_east * (1 - mis_prop_east) / 5614)  # Replace 'n' with your sample size\n",
    "\n",
    "# z value\n",
    "z_value <- (mis_prop_east - population_proportion_null) / se\n",
    "\n",
    "# margin of error\n",
    "margin_of_error_mis <- z_value * se\n",
    "\n",
    "p_value <- pnorm(z_value)\n",
    "print(p_value)\n",
    "print(margin_of_error_mis)"
   ]
  },
  {
   "cell_type": "markdown",
   "id": "56115a5a-a9c5-4035-a304-68170350dbc6",
   "metadata": {
    "tags": []
   },
   "source": [
    "\n",
    "For our hypothesis testing the null hypothesis is that there is equal crime rates between the west and east sides of Vancouver. The alternative is that the west side has more crime than the east. For this our confidence level will be 95%. In this case it would be better to use bootstrapping rather than the asymptotic method as the asymptotic method relies on the data to already follow a  normal distribution. If the p-value is less than 0.05 after conducting bootstrapping we will reject the null hypothesis.\n",
    "\n",
    "* What do you expect to find?\n",
    "\n",
    "We expect to find our alternative hypothesis to be true. Crime will be the most common in the west area (downtown), X < 491017.47 in coordinate, and this trend will stay consistent for different types of crimes and for different neighbourhoods within Vancouver. \n",
    " \n",
    "* What impact could such findings have?\n",
    "\n",
    "Understanding the relationship between location and crime can tell law enforcement agencies when and where to allocate police resources efficiently. It may additionally cause more centred and efficient policing techniques, reducing crime rates during peak periods.\n",
    "\n",
    "* What future questions could this lead to?\n",
    "\n",
    "Beyond location, what different elements (i.e. weather, events, or tourism) could influence crime rates? Our research can be continued with those variables to inspect why the west side (downtown) has a significantly higher rate than other areas.\n",
    "\n",
    "How do economic factors, such as income levels, education, and employment opportunities, differ between the west and east sides of Vancouver, and to what extent do these disparities correlate with crime rates.\n",
    "References\n",
    "Staysafevancouver. (2023, August 31). Vancouver crime rate: Areas to avoid. Stay Safe Vancouver. https://www.staysafevancouver.com/post/vancouver-crime-rate \n",
    "\n",
    "West side rated safer than East Side neighbourhoods: Vancouver police survey. The Georgia Straight. (2019, February 21). https://www.straight.com/news/1203621/west-side-rated-safer-east-side-neighbourhoods-vancouver-police-survey \n"
   ]
  },
  {
   "cell_type": "code",
   "execution_count": null,
   "id": "cf9857f5-3385-4376-a547-add3b832c5cc",
   "metadata": {},
   "outputs": [],
   "source": []
  },
  {
   "cell_type": "code",
   "execution_count": null,
   "id": "da6408c7-af96-4cf0-b55a-c4f7a9e26276",
   "metadata": {},
   "outputs": [],
   "source": []
  },
  {
   "cell_type": "code",
   "execution_count": null,
   "id": "323723af-0dfd-4fcc-9242-fb93c600344f",
   "metadata": {},
   "outputs": [],
   "source": []
  }
 ],
 "metadata": {
  "kernelspec": {
   "display_name": "R",
   "language": "R",
   "name": "ir"
  },
  "language_info": {
   "codemirror_mode": "r",
   "file_extension": ".r",
   "mimetype": "text/x-r-source",
   "name": "R",
   "pygments_lexer": "r",
   "version": "4.2.3"
  }
 },
 "nbformat": 4,
 "nbformat_minor": 5
}
