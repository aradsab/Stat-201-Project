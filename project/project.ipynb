{
 "cells": [
  {
   "cell_type": "code",
   "execution_count": 9,
   "id": "63382cd1-9255-4bbc-99fd-1d87644b93eb",
   "metadata": {
    "tags": []
   },
   "outputs": [],
   "source": [
    "# Run this cell before continuing.\n",
    "library(cowplot)\n",
    "library(datateachr)\n",
    "library(digest)\n",
    "library(infer)\n",
    "library(repr)\n",
    "library(taxyvr)\n",
    "library(tidyverse)"
   ]
  },
  {
   "cell_type": "code",
   "execution_count": null,
   "id": "ceb483bf-3b0e-437d-bcdf-249825ca8966",
   "metadata": {},
   "outputs": [],
   "source": [
    "# setwd(\"/home/jovyan/work/project\")"
   ]
  },
  {
   "cell_type": "code",
   "execution_count": 28,
   "id": "8ed13e97-22fb-4939-ae0d-2fbb24eeaeee",
   "metadata": {
    "tags": []
   },
   "outputs": [
    {
     "name": "stderr",
     "output_type": "stream",
     "text": [
      "\u001b[1mRows: \u001b[22m\u001b[34m34281\u001b[39m \u001b[1mColumns: \u001b[22m\u001b[34m10\u001b[39m\n",
      "\u001b[36m──\u001b[39m \u001b[1mColumn specification\u001b[22m \u001b[36m────────────────────────────────────────────────────────\u001b[39m\n",
      "\u001b[1mDelimiter:\u001b[22m \",\"\n",
      "\u001b[31mchr\u001b[39m (3): TYPE, HUNDRED_BLOCK, NEIGHBOURHOOD\n",
      "\u001b[32mdbl\u001b[39m (7): YEAR, MONTH, DAY, HOUR, MINUTE, X, Y\n",
      "\n",
      "\u001b[36mℹ\u001b[39m Use `spec()` to retrieve the full column specification for this data.\n",
      "\u001b[36mℹ\u001b[39m Specify the column types or set `show_col_types = FALSE` to quiet this message.\n"
     ]
    },
    {
     "data": {
      "text/html": [
       "<table class=\"dataframe\">\n",
       "<caption>A tibble: 6 × 10</caption>\n",
       "<thead>\n",
       "\t<tr><th scope=col>TYPE</th><th scope=col>YEAR</th><th scope=col>MONTH</th><th scope=col>DAY</th><th scope=col>HOUR</th><th scope=col>MINUTE</th><th scope=col>HUNDRED_BLOCK</th><th scope=col>NEIGHBOURHOOD</th><th scope=col>X</th><th scope=col>Y</th></tr>\n",
       "\t<tr><th scope=col>&lt;chr&gt;</th><th scope=col>&lt;dbl&gt;</th><th scope=col>&lt;dbl&gt;</th><th scope=col>&lt;dbl&gt;</th><th scope=col>&lt;dbl&gt;</th><th scope=col>&lt;dbl&gt;</th><th scope=col>&lt;chr&gt;</th><th scope=col>&lt;chr&gt;</th><th scope=col>&lt;dbl&gt;</th><th scope=col>&lt;dbl&gt;</th></tr>\n",
       "</thead>\n",
       "<tbody>\n",
       "\t<tr><td>Break and Enter Commercial</td><td>2022</td><td>1</td><td> 3</td><td>16</td><td>19</td><td>10XX ALBERNI ST </td><td>West End   </td><td>491036.1</td><td>5459146</td></tr>\n",
       "\t<tr><td>Break and Enter Commercial</td><td>2022</td><td>6</td><td>17</td><td> 5</td><td>16</td><td>10XX ALBERNI ST </td><td>West End   </td><td>491067.3</td><td>5459115</td></tr>\n",
       "\t<tr><td>Break and Enter Commercial</td><td>2022</td><td>3</td><td>15</td><td> 5</td><td>14</td><td>10XX ALBERNI ST </td><td>West End   </td><td>491102.2</td><td>5459092</td></tr>\n",
       "\t<tr><td>Break and Enter Commercial</td><td>2022</td><td>3</td><td>19</td><td> 6</td><td>42</td><td>10XX ALBERNI ST </td><td>West End   </td><td>491102.2</td><td>5459092</td></tr>\n",
       "\t<tr><td>Break and Enter Commercial</td><td>2022</td><td>2</td><td>23</td><td>23</td><td> 0</td><td>10XX BALFOUR AVE</td><td>Shaughnessy</td><td>490699.8</td><td>5455444</td></tr>\n",
       "\t<tr><td>Break and Enter Commercial</td><td>2022</td><td>2</td><td>25</td><td>10</td><td>15</td><td>10XX BALFOUR AVE</td><td>Shaughnessy</td><td>490699.8</td><td>5455444</td></tr>\n",
       "</tbody>\n",
       "</table>\n"
      ],
      "text/latex": [
       "A tibble: 6 × 10\n",
       "\\begin{tabular}{llllllllll}\n",
       " TYPE & YEAR & MONTH & DAY & HOUR & MINUTE & HUNDRED\\_BLOCK & NEIGHBOURHOOD & X & Y\\\\\n",
       " <chr> & <dbl> & <dbl> & <dbl> & <dbl> & <dbl> & <chr> & <chr> & <dbl> & <dbl>\\\\\n",
       "\\hline\n",
       "\t Break and Enter Commercial & 2022 & 1 &  3 & 16 & 19 & 10XX ALBERNI ST  & West End    & 491036.1 & 5459146\\\\\n",
       "\t Break and Enter Commercial & 2022 & 6 & 17 &  5 & 16 & 10XX ALBERNI ST  & West End    & 491067.3 & 5459115\\\\\n",
       "\t Break and Enter Commercial & 2022 & 3 & 15 &  5 & 14 & 10XX ALBERNI ST  & West End    & 491102.2 & 5459092\\\\\n",
       "\t Break and Enter Commercial & 2022 & 3 & 19 &  6 & 42 & 10XX ALBERNI ST  & West End    & 491102.2 & 5459092\\\\\n",
       "\t Break and Enter Commercial & 2022 & 2 & 23 & 23 &  0 & 10XX BALFOUR AVE & Shaughnessy & 490699.8 & 5455444\\\\\n",
       "\t Break and Enter Commercial & 2022 & 2 & 25 & 10 & 15 & 10XX BALFOUR AVE & Shaughnessy & 490699.8 & 5455444\\\\\n",
       "\\end{tabular}\n"
      ],
      "text/markdown": [
       "\n",
       "A tibble: 6 × 10\n",
       "\n",
       "| TYPE &lt;chr&gt; | YEAR &lt;dbl&gt; | MONTH &lt;dbl&gt; | DAY &lt;dbl&gt; | HOUR &lt;dbl&gt; | MINUTE &lt;dbl&gt; | HUNDRED_BLOCK &lt;chr&gt; | NEIGHBOURHOOD &lt;chr&gt; | X &lt;dbl&gt; | Y &lt;dbl&gt; |\n",
       "|---|---|---|---|---|---|---|---|---|---|\n",
       "| Break and Enter Commercial | 2022 | 1 |  3 | 16 | 19 | 10XX ALBERNI ST  | West End    | 491036.1 | 5459146 |\n",
       "| Break and Enter Commercial | 2022 | 6 | 17 |  5 | 16 | 10XX ALBERNI ST  | West End    | 491067.3 | 5459115 |\n",
       "| Break and Enter Commercial | 2022 | 3 | 15 |  5 | 14 | 10XX ALBERNI ST  | West End    | 491102.2 | 5459092 |\n",
       "| Break and Enter Commercial | 2022 | 3 | 19 |  6 | 42 | 10XX ALBERNI ST  | West End    | 491102.2 | 5459092 |\n",
       "| Break and Enter Commercial | 2022 | 2 | 23 | 23 |  0 | 10XX BALFOUR AVE | Shaughnessy | 490699.8 | 5455444 |\n",
       "| Break and Enter Commercial | 2022 | 2 | 25 | 10 | 15 | 10XX BALFOUR AVE | Shaughnessy | 490699.8 | 5455444 |\n",
       "\n"
      ],
      "text/plain": [
       "  TYPE                       YEAR MONTH DAY HOUR MINUTE HUNDRED_BLOCK   \n",
       "1 Break and Enter Commercial 2022 1      3  16   19     10XX ALBERNI ST \n",
       "2 Break and Enter Commercial 2022 6     17   5   16     10XX ALBERNI ST \n",
       "3 Break and Enter Commercial 2022 3     15   5   14     10XX ALBERNI ST \n",
       "4 Break and Enter Commercial 2022 3     19   6   42     10XX ALBERNI ST \n",
       "5 Break and Enter Commercial 2022 2     23  23    0     10XX BALFOUR AVE\n",
       "6 Break and Enter Commercial 2022 2     25  10   15     10XX BALFOUR AVE\n",
       "  NEIGHBOURHOOD X        Y      \n",
       "1 West End      491036.1 5459146\n",
       "2 West End      491067.3 5459115\n",
       "3 West End      491102.2 5459092\n",
       "4 West End      491102.2 5459092\n",
       "5 Shaughnessy   490699.8 5455444\n",
       "6 Shaughnessy   490699.8 5455444"
      ]
     },
     "metadata": {},
     "output_type": "display_data"
    }
   ],
   "source": [
    "crime_data <- read_csv(\"data/crimedata_csv_AllNeighbourhoods_2022.csv\")\n",
    "head(crime_data)"
   ]
  },
  {
   "cell_type": "code",
   "execution_count": null,
   "id": "7b335220-4d86-4740-94f5-f852e6429d4d",
   "metadata": {},
   "outputs": [],
   "source": []
  },
  {
   "cell_type": "code",
   "execution_count": 27,
   "id": "50da8d5c-2999-46b5-bfa0-3da34edefa78",
   "metadata": {
    "tags": []
   },
   "outputs": [],
   "source": []
  },
  {
   "cell_type": "code",
   "execution_count": null,
   "id": "157c48ff-6d79-41dc-9024-116d43ba00fc",
   "metadata": {},
   "outputs": [],
   "source": []
  }
 ],
 "metadata": {
  "kernelspec": {
   "display_name": "R",
   "language": "R",
   "name": "ir"
  },
  "language_info": {
   "codemirror_mode": "r",
   "file_extension": ".r",
   "mimetype": "text/x-r-source",
   "name": "R",
   "pygments_lexer": "r",
   "version": "4.2.3"
  }
 },
 "nbformat": 4,
 "nbformat_minor": 5
}
